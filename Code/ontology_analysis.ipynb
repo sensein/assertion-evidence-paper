{
 "cells": [
  {
   "cell_type": "code",
   "execution_count": 2,
   "id": "f1c2179b-f4ed-4c0d-8f54-7112faca75ee",
   "metadata": {},
   "outputs": [
    {
     "name": "stderr",
     "output_type": "stream",
     "text": [
      "\n",
      "Warning: SQLite3 version 3.40.0 and 3.41.2 have huge performance regressions; please install version 3.41.1 or 3.42!\n",
      "\n"
     ]
    }
   ],
   "source": [
    "import os\n",
    "from owlready2 import *\n",
    "import pandas as pd\n",
    "\n",
    "def count_ontology_elements(ontology_path):\n",
    "    # Load the ontology\n",
    "    onto = get_ontology(ontology_path).load()\n",
    "    \n",
    "    # Count the elements\n",
    "    num_classes = len(list(onto.classes()))\n",
    "    num_individuals = len(list(onto.individuals()))\n",
    "    num_object_properties = len(list(onto.object_properties()))\n",
    "    num_data_properties = len(list(onto.data_properties()))\n",
    "     \n",
    "    counts = {\n",
    "        \"filename\": os.path.basename(ontology_path),\n",
    "        \"classes\": num_classes,\n",
    "        \"individuals\": num_individuals,\n",
    "        \"object_properties\": num_object_properties,\n",
    "        \"data_properties\": num_data_properties\n",
    "    }\n",
    "    \n",
    "    return counts\n",
    "\n",
    "def count_elements_in_directory(directory_path): \n",
    "    ontology_counts = {}\n",
    "    \n",
    "    # Supported ontology file extensions\n",
    "    supported_extensions = (\".owl\", \".ttl\", \".rdf\")\n",
    "    \n",
    "    # Iterate over all files in the directory\n",
    "    for filename in os.listdir(directory_path):\n",
    "        if filename.endswith(supported_extensions):   \n",
    "            ontology_path = os.path.join(directory_path, filename)\n",
    "            counts = count_ontology_elements(ontology_path)\n",
    "            ontology_counts[filename] = counts\n",
    "    \n",
    "    return ontology_counts"
   ]
  },
  {
   "cell_type": "code",
   "execution_count": 3,
   "id": "73619447-ebf2-4b57-acea-ac3a0c36f2a7",
   "metadata": {},
   "outputs": [
    {
     "name": "stderr",
     "output_type": "stream",
     "text": [
      "* Owlready2 * WARNING: ObjectProperty http://purl.org/dc/terms/source belongs to more than one entity types: [owl.AnnotationProperty, owl.ObjectProperty]; I'm trying to fix it...\n"
     ]
    },
    {
     "data": {
      "text/html": [
       "<div>\n",
       "<style scoped>\n",
       "    .dataframe tbody tr th:only-of-type {\n",
       "        vertical-align: middle;\n",
       "    }\n",
       "\n",
       "    .dataframe tbody tr th {\n",
       "        vertical-align: top;\n",
       "    }\n",
       "\n",
       "    .dataframe thead th {\n",
       "        text-align: right;\n",
       "    }\n",
       "</style>\n",
       "<table border=\"1\" class=\"dataframe\">\n",
       "  <thead>\n",
       "    <tr style=\"text-align: right;\">\n",
       "      <th></th>\n",
       "      <th>filename</th>\n",
       "      <th>classes</th>\n",
       "      <th>individuals</th>\n",
       "      <th>object_properties</th>\n",
       "      <th>data_properties</th>\n",
       "    </tr>\n",
       "  </thead>\n",
       "  <tbody>\n",
       "    <tr>\n",
       "      <th>0</th>\n",
       "      <td>sio.owl</td>\n",
       "      <td>1584</td>\n",
       "      <td>0</td>\n",
       "      <td>211</td>\n",
       "      <td>1</td>\n",
       "    </tr>\n",
       "    <tr>\n",
       "      <th>1</th>\n",
       "      <td>eco.owl</td>\n",
       "      <td>3337</td>\n",
       "      <td>18</td>\n",
       "      <td>47</td>\n",
       "      <td>3</td>\n",
       "    </tr>\n",
       "    <tr>\n",
       "      <th>2</th>\n",
       "      <td>sepio.owl</td>\n",
       "      <td>125</td>\n",
       "      <td>21</td>\n",
       "      <td>210</td>\n",
       "      <td>32</td>\n",
       "    </tr>\n",
       "  </tbody>\n",
       "</table>\n",
       "</div>"
      ],
      "text/plain": [
       "    filename  classes  individuals  object_properties  data_properties\n",
       "0    sio.owl     1584            0                211                1\n",
       "1    eco.owl     3337           18                 47                3\n",
       "2  sepio.owl      125           21                210               32"
      ]
     },
     "execution_count": 3,
     "metadata": {},
     "output_type": "execute_result"
    }
   ],
   "source": [
    "directory_path = \"../Data\"\n",
    "ontology_counts = count_elements_in_directory(directory_path)\n",
    "\n",
    "df = pd.DataFrame.from_dict(ontology_counts,orient='index')\n",
    "df_reset = df.reset_index(drop=True)\n",
    "df_reset"
   ]
  },
  {
   "cell_type": "code",
   "execution_count": 4,
   "id": "22f68694-4b6e-43fc-bb1a-e685c9c05f24",
   "metadata": {},
   "outputs": [
    {
     "name": "stdout",
     "output_type": "stream",
     "text": [
      " filename  classes  individuals  object_properties  data_properties\n",
      "  sio.owl     1584            0                211                1\n",
      "  eco.owl     3337           18                 47                3\n",
      "sepio.owl      125           21                210               32\n"
     ]
    }
   ],
   "source": [
    "print(df_reset.to_string(index=False))"
   ]
  },
  {
   "cell_type": "code",
   "execution_count": null,
   "id": "68810c47-e2cb-41cd-b710-fe53dcf8b629",
   "metadata": {},
   "outputs": [],
   "source": []
  },
  {
   "cell_type": "code",
   "execution_count": null,
   "id": "afb0f076-fca9-4ac9-92c9-0a2f94c404b3",
   "metadata": {},
   "outputs": [],
   "source": []
  }
 ],
 "metadata": {
  "kernelspec": {
   "display_name": "Python 3 (ipykernel)",
   "language": "python",
   "name": "python3"
  },
  "language_info": {
   "codemirror_mode": {
    "name": "ipython",
    "version": 3
   },
   "file_extension": ".py",
   "mimetype": "text/x-python",
   "name": "python",
   "nbconvert_exporter": "python",
   "pygments_lexer": "ipython3",
   "version": "3.11.7"
  }
 },
 "nbformat": 4,
 "nbformat_minor": 5
}
