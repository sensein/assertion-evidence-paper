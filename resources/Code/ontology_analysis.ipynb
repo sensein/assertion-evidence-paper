{
 "cells": [
  {
   "cell_type": "code",
   "execution_count": 1,
   "id": "f1c2179b-f4ed-4c0d-8f54-7112faca75ee",
   "metadata": {},
   "outputs": [
    {
     "name": "stderr",
     "output_type": "stream",
     "text": [
      "\n",
      "Warning: SQLite3 version 3.40.0 and 3.41.2 have huge performance regressions; please install version 3.41.1 or 3.42!\n",
      "\n"
     ]
    }
   ],
   "source": [
    "import os\n",
    "from owlready2 import *\n",
    "import pandas as pd\n",
    "from rdflib import Graph\n",
    "\n",
    "def convert_to_owl(input_path, output_owl_path): \n",
    "    g = Graph()\n",
    "    input_format = 'ttl' if input_path.endswith('.ttl') else 'xml'\n",
    "    g.parse(input_path, format=input_format)\n",
    "    # Serialize the graph to RDF/XML format (commonly used for .owl files)\n",
    "    g.serialize(destination=output_owl_path, format='pretty-xml')\n",
    "\n",
    "def count_ontology_elements(ontology_path):\n",
    "    try:\n",
    "        \n",
    "         \n",
    "        onto = get_ontology(ontology_path).load()\n",
    "\n",
    "        print(f\"Processing: {ontology_path}\")\n",
    "        \n",
    "        # Count the elements\n",
    "        num_classes = len(list(onto.classes()))\n",
    "        num_individuals = len(list(onto.individuals()))\n",
    "        num_object_properties = len(list(onto.object_properties()))\n",
    "        num_data_properties = len(list(onto.data_properties()))\n",
    "        \n",
    "        counts = {\n",
    "            \"filename\": os.path.basename(ontology_path),\n",
    "            \"classes\": num_classes,\n",
    "            \"individuals\": num_individuals,\n",
    "            \"object_properties\": num_object_properties,\n",
    "            \"data_properties\": num_data_properties\n",
    "        }\n",
    "        print(counts)\n",
    "        return counts\n",
    "    \n",
    "    except Exception as e:\n",
    "        print(f\"Error loading {ontology_path}: {e}\")\n",
    "        return None\n",
    "\n",
    "def count_elements_in_directory(directory_path): \n",
    "    ontology_counts = {}\n",
    "    \n",
    "    # Supported ontology file extensions\n",
    "    supported_extensions = (\".owl\", \".ttl\", \".rdf\")\n",
    "    \n",
    "    # Create a directory for converted files if it doesn't exist\n",
    "    converted_dir = os.path.join(directory_path, 'converted_files_bkp')\n",
    "    os.makedirs(converted_dir, exist_ok=True)\n",
    "     \n",
    "    for filename in os.listdir(directory_path):\n",
    "        if filename.endswith(supported_extensions):\n",
    "            ontology_path = os.path.join(directory_path, filename)\n",
    "            \n",
    "            # If the file is .ttl or .rdf, convert it to .owl and move it to 'converted_files_bkp' folder\n",
    "            if filename.endswith(('.ttl', '.rdf')): \n",
    "                converted_path = os.path.join(directory_path, os.path.splitext(filename)[0] + '.owl')\n",
    "                convert_to_owl(ontology_path, converted_path)\n",
    "                \n",
    "                # move ttl / rdf to converted_files_bkp\n",
    "                new_original_path = os.path.join(converted_dir, filename)\n",
    "                os.rename(ontology_path, new_original_path)\n",
    "                \n",
    "                 \n",
    "                ontology_path = converted_path\n",
    "            \n",
    "            # Count classes/properties in the .owl file\n",
    "            counts = count_ontology_elements(ontology_path)\n",
    "            if counts:\n",
    "                ontology_counts[filename] = counts\n",
    "    \n",
    "    return ontology_counts "
   ]
  },
  {
   "cell_type": "code",
   "execution_count": 5,
   "id": "73619447-ebf2-4b57-acea-ac3a0c36f2a7",
   "metadata": {},
   "outputs": [
    {
     "name": "stdout",
     "output_type": "stream",
     "text": [
      "ls: ../Data/assertion_evidence/: Operation not permitted\n"
     ]
    }
   ],
   "source": [
    "directory_path = \"../Data/assertion_evidence/\" \n",
    "!ls $directory_path"
   ]
  },
  {
   "cell_type": "code",
   "execution_count": 3,
   "id": "06a62fa3-f6ec-478e-b9c4-3e315827f30a",
   "metadata": {},
   "outputs": [
    {
     "data": {
      "text/html": [
       "<div>\n",
       "<style scoped>\n",
       "    .dataframe tbody tr th:only-of-type {\n",
       "        vertical-align: middle;\n",
       "    }\n",
       "\n",
       "    .dataframe tbody tr th {\n",
       "        vertical-align: top;\n",
       "    }\n",
       "\n",
       "    .dataframe thead th {\n",
       "        text-align: right;\n",
       "    }\n",
       "</style>\n",
       "<table border=\"1\" class=\"dataframe\">\n",
       "  <thead>\n",
       "    <tr style=\"text-align: right;\">\n",
       "      <th></th>\n",
       "    </tr>\n",
       "  </thead>\n",
       "  <tbody>\n",
       "  </tbody>\n",
       "</table>\n",
       "</div>"
      ],
      "text/plain": [
       "Empty DataFrame\n",
       "Columns: []\n",
       "Index: []"
      ]
     },
     "execution_count": 3,
     "metadata": {},
     "output_type": "execute_result"
    }
   ],
   "source": [
    "ontology_counts_assertion_evidence = count_elements_in_directory(directory_path)\n",
    "\n",
    "df_assertion_evidence = pd.DataFrame.from_dict(ontology_counts_assertion_evidence,orient='index')\n",
    "df_assertion_evidence_reset = df_assertion_evidence.reset_index(drop=True)\n",
    "df_assertion_evidence_reset"
   ]
  },
  {
   "cell_type": "code",
   "execution_count": 4,
   "id": "22f68694-4b6e-43fc-bb1a-e685c9c05f24",
   "metadata": {},
   "outputs": [
    {
     "name": "stdout",
     "output_type": "stream",
     "text": [
      "Empty DataFrame\n",
      "Columns: []\n",
      "Index: []\n"
     ]
    }
   ],
   "source": [
    "print(df_assertion_evidence_reset.to_string(index=False))"
   ]
  },
  {
   "cell_type": "code",
   "execution_count": null,
   "id": "eeab40f3-8db5-491d-a5e2-63c9ad00d747",
   "metadata": {},
   "outputs": [],
   "source": []
  },
  {
   "cell_type": "code",
   "execution_count": 6,
   "id": "663d8f18-37db-41d0-bef7-b6de55a9ca9e",
   "metadata": {},
   "outputs": [
    {
     "data": {
      "text/html": [
       "<div>\n",
       "<style scoped>\n",
       "    .dataframe tbody tr th:only-of-type {\n",
       "        vertical-align: middle;\n",
       "    }\n",
       "\n",
       "    .dataframe tbody tr th {\n",
       "        vertical-align: top;\n",
       "    }\n",
       "\n",
       "    .dataframe thead th {\n",
       "        text-align: right;\n",
       "    }\n",
       "</style>\n",
       "<table border=\"1\" class=\"dataframe\">\n",
       "  <thead>\n",
       "    <tr style=\"text-align: right;\">\n",
       "      <th></th>\n",
       "    </tr>\n",
       "  </thead>\n",
       "  <tbody>\n",
       "  </tbody>\n",
       "</table>\n",
       "</div>"
      ],
      "text/plain": [
       "Empty DataFrame\n",
       "Columns: []\n",
       "Index: []"
      ]
     },
     "execution_count": 6,
     "metadata": {},
     "output_type": "execute_result"
    }
   ],
   "source": [
    "directory_path = \"../Data/provenance\"\n",
    "ontology_counts_provenance = count_elements_in_directory(directory_path)\n",
    "\n",
    "df_provenance = pd.DataFrame.from_dict(ontology_counts_provenance,orient='index')\n",
    "df_reset_provenance = df_provenance.reset_index(drop=True)\n",
    "df_reset_provenance"
   ]
  },
  {
   "cell_type": "code",
   "execution_count": 6,
   "id": "f08fabb7-14ec-4e1c-a633-337f648249bb",
   "metadata": {},
   "outputs": [
    {
     "name": "stdout",
     "output_type": "stream",
     "text": [
      ".\n"
     ]
    },
    {
     "name": "stderr",
     "output_type": "stream",
     "text": [
      "Exception ignored in atexit callback: <bound method InteractiveShell.atexit_operations of <ipykernel.zmqshell.ZMQInteractiveShell object at 0x1066ee6d0>>\n",
      "Traceback (most recent call last):\n",
      "  File \"/opt/anaconda3/lib/python3.11/site-packages/IPython/core/interactiveshell.py\", line 3920, in atexit_operations\n",
      "    self._atexit_once()\n",
      "  File \"/opt/anaconda3/lib/python3.11/site-packages/IPython/core/interactiveshell.py\", line 3899, in _atexit_once\n",
      "    self.reset(new_session=False)\n",
      "  File \"/opt/anaconda3/lib/python3.11/site-packages/IPython/core/interactiveshell.py\", line 1399, in reset\n",
      "    self.history_manager.reset(new_session)\n",
      "  File \"/opt/anaconda3/lib/python3.11/site-packages/IPython/core/history.py\", line 607, in reset\n",
      "    self.dir_hist[:] = [Path.cwd()]\n",
      "                        ^^^^^^^^^^\n",
      "  File \"/opt/anaconda3/lib/python3.11/pathlib.py\", line 907, in cwd\n",
      "    return cls(os.getcwd())\n",
      "               ^^^^^^^^^^^\n",
      "PermissionError: [Errno 1] Operation not permitted\n"
     ]
    }
   ],
   "source": [
    "!pwd"
   ]
  },
  {
   "cell_type": "code",
   "execution_count": null,
   "id": "d16d3a4b-7d8d-450a-86e8-445217bc0542",
   "metadata": {},
   "outputs": [],
   "source": []
  },
  {
   "cell_type": "code",
   "execution_count": null,
   "id": "efd800f1-6e60-42c4-9657-7bc17abe82c0",
   "metadata": {},
   "outputs": [],
   "source": []
  }
 ],
 "metadata": {
  "kernelspec": {
   "display_name": "Python 3 (ipykernel)",
   "language": "python",
   "name": "python3"
  },
  "language_info": {
   "codemirror_mode": {
    "name": "ipython",
    "version": 3
   },
   "file_extension": ".py",
   "mimetype": "text/x-python",
   "name": "python",
   "nbconvert_exporter": "python",
   "pygments_lexer": "ipython3",
   "version": "3.11.7"
  }
 },
 "nbformat": 4,
 "nbformat_minor": 5
}
